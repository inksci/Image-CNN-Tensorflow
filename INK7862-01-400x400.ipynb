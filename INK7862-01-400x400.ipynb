{
 "cells": [
  {
   "cell_type": "code",
   "execution_count": 1,
   "metadata": {
    "collapsed": false,
    "deletable": true,
    "editable": true
   },
   "outputs": [],
   "source": [
    "import numpy as np\n",
    "import random\n",
    "import tensorflow as tf\n",
    "import matplotlib.pyplot as plt\n",
    "import scipy.misc\n",
    "import os\n",
    "import csv\n",
    "import itertools\n",
    "import tensorflow.contrib.slim as slim\n",
    "%matplotlib inline"
   ]
  },
  {
   "cell_type": "code",
   "execution_count": 2,
   "metadata": {
    "collapsed": true,
    "deletable": true,
    "editable": true
   },
   "outputs": [],
   "source": [
    "def read_img(file_names):\n",
    "    #file_names = './data-moveImg/moveImg-0.bmp'\n",
    "    image0 = scipy.misc.imread( file_names )\n",
    "\n",
    "    img_size = 400\n",
    "\n",
    "    tmp_img = []\n",
    "    for i1 in xrange(img_size):\n",
    "        tmp_img.append( [] )\n",
    "        for i2 in xrange(img_size):\n",
    "            if image0[i1][i2][0] == 0:\n",
    "                tmp_img[i1].append( [0] )\n",
    "            else:\n",
    "                tmp_img[i1].append( [1] )\n",
    "                \n",
    "    image0 = np.array( tmp_img )\n",
    "    image0=image0.reshape(img_size*img_size)\n",
    "    return image0"
   ]
  },
  {
   "cell_type": "code",
   "execution_count": 4,
   "metadata": {
    "collapsed": true,
    "deletable": true,
    "editable": true
   },
   "outputs": [],
   "source": [
    "def batch_obtain(dir_name):\n",
    "    # dir_name = 'data-moveImg-39x39-test'\n",
    "    import re\n",
    "    data_keep = []\n",
    "\n",
    "    ink_code = open( './'+dir_name+'/ink-code.txt' )\n",
    "    for lines in ink_code:\n",
    "        # print lines\n",
    "        searchObj = re.search( r'create\\_picture\\((\\d+)\\, (\\d+)\\, \\\"moveImg\\-(\\d+)\\.bmp\\\"\\)\\;', lines, re.M|re.I)\n",
    "        if searchObj: \n",
    "            tmp=[]\n",
    "            for i in range(3):\n",
    "                tmp.append( int( searchObj.group(i+1) ) )\n",
    "            data_keep.append( tmp )\n",
    "\n",
    "    data_keep=np.array( data_keep )\n",
    "\n",
    "    x_batch = []\n",
    "    y_batch = []\n",
    "\n",
    "    for i in xrange( data_keep.shape[0] ): # data_keep.shape[0]\n",
    "        image = read_img( './'+dir_name+'/moveImg-'+str( data_keep[i][2] )+'.bmp' )\n",
    "        x_batch.append( image )\n",
    "        y_batch.append( [data_keep[i][0], data_keep[i][1]] )\n",
    "\n",
    "    y_batch = np.array( y_batch )\n",
    "\n",
    "    return x_batch, y_batch"
   ]
  },
  {
   "cell_type": "code",
   "execution_count": 5,
   "metadata": {
    "collapsed": false,
    "deletable": true,
    "editable": true
   },
   "outputs": [],
   "source": [
    "x_batch, y_batch = batch_obtain( 'data-moveImg' )"
   ]
  },
  {
   "cell_type": "code",
   "execution_count": 6,
   "metadata": {
    "collapsed": true,
    "deletable": true,
    "editable": true
   },
   "outputs": [],
   "source": [
    "x_test, y_test = batch_obtain( 'data-moveImg-test' )"
   ]
  },
  {
   "cell_type": "code",
   "execution_count": null,
   "metadata": {
    "collapsed": true,
    "deletable": true,
    "editable": true
   },
   "outputs": [],
   "source": []
  },
  {
   "cell_type": "code",
   "execution_count": 6,
   "metadata": {
    "collapsed": true,
    "deletable": true,
    "editable": true
   },
   "outputs": [],
   "source": [
    "def weight_variable(shape):\n",
    "    initial = tf.truncated_normal(shape)\n",
    "    return tf.Variable(initial)\n",
    "\n",
    "def bias_variable(shape):\n",
    "    initial = tf.constant(0.01, shape = shape)\n",
    "    return tf.Variable(initial)"
   ]
  },
  {
   "cell_type": "markdown",
   "metadata": {
    "deletable": true,
    "editable": true
   },
   "source": [
    "### Implementing the network itself"
   ]
  },
  {
   "cell_type": "code",
   "execution_count": 7,
   "metadata": {
    "collapsed": false,
    "deletable": true,
    "editable": true
   },
   "outputs": [],
   "source": [
    "class network():\n",
    "    def __init__(self):\n",
    "        \n",
    "        myScope = 'main'\n",
    "        \n",
    "        self.x_input =  tf.placeholder(shape=[None,400*400],dtype=tf.float32)\n",
    "        imageIn = tf.reshape(self.x_input,shape=[-1,400, 400,1])\n",
    "\n",
    "        self.conv1 = slim.convolution2d( \\\n",
    "            inputs=imageIn,num_outputs=10,\\\n",
    "            kernel_size=[5,5],stride=[1,1],padding='VALID', \\\n",
    "            biases_initializer=None,scope=myScope+'_conv1')\n",
    "        \n",
    "        # tf.nn.relu\n",
    "        \n",
    "        self.pool1 = self.max_pool_2x2( self.conv1 )\n",
    "        \n",
    "        self.conv2 = slim.convolution2d( \\\n",
    "            inputs=self.pool1,num_outputs=20,\\\n",
    "            kernel_size=[4,4],stride=[1,1],padding='VALID', \\\n",
    "            biases_initializer=None,scope=myScope+'_conv2')\n",
    "        \n",
    "        self.pool2 = self.max_pool_2x2( self.conv2 )\n",
    "        \n",
    "        self.conv3 = slim.convolution2d( \\\n",
    "            inputs=self.pool2,num_outputs=30,\\\n",
    "            kernel_size=[4,4],stride=[1,1],padding='VALID', \\\n",
    "            biases_initializer=None,scope=myScope+'_conv3')\n",
    "        \n",
    "        self.pool3 = self.max_pool_2x2( self.conv3 )\n",
    "        \n",
    "        self.conv4 = slim.convolution2d( \\\n",
    "            inputs=self.pool3,num_outputs=40,\\\n",
    "            kernel_size=[4,4],stride=[1,1],padding='VALID', \\\n",
    "            biases_initializer=None,scope=myScope+'_conv4')\n",
    "\n",
    "        self.pool4 = self.max_pool_2x2( self.conv4 )\n",
    "        \n",
    "        self.conv5 = slim.convolution2d( \\\n",
    "            inputs=self.pool4,num_outputs=50,\\\n",
    "            kernel_size=[3,3],stride=[1,1],padding='VALID', \\\n",
    "            biases_initializer=None,scope=myScope+'_conv5')\n",
    "\n",
    "        self.pool5 = self.max_pool_2x2( self.conv5 )\n",
    "        \n",
    "        self.conv6 = slim.convolution2d( \\\n",
    "            inputs=self.pool5,num_outputs=60,\\\n",
    "            kernel_size=[3,3],stride=[1,1],padding='VALID', \\\n",
    "            biases_initializer=None,scope=myScope+'_conv6')\n",
    "\n",
    "        self.pool6 = self.max_pool_2x2( self.conv6 )\n",
    "        \n",
    "        self.conv7 = slim.convolution2d( \\\n",
    "            inputs=self.pool6,num_outputs=70,\\\n",
    "            kernel_size=[3,3],stride=[1,1],padding='VALID', \\\n",
    "            biases_initializer=None,scope=myScope+'_conv7')     \n",
    "\n",
    "        self.pool7 = self.max_pool_2x2( self.conv7 )\n",
    "        \n",
    "        self.conv8 = slim.convolution2d( \\\n",
    "            inputs=self.pool7,num_outputs=80,\\\n",
    "            kernel_size=[2,2],stride=[1,1],padding='VALID', \\\n",
    "            biases_initializer=None,scope=myScope+'_conv8')     \n",
    "\n",
    "        #print self.conv8.shape # 1,1,80\n",
    "\n",
    "        self.conv8 = tf.reshape(self.conv8, shape=[-1,80])\n",
    "\n",
    "        x_dim = 80\n",
    "        y_dim = 2\n",
    "        # network weights\n",
    "        hid_dim = 120\n",
    "        W1 = weight_variable([x_dim,hid_dim])\n",
    "        b1 = bias_variable([hid_dim])\n",
    "        W2 = weight_variable([hid_dim,y_dim])\n",
    "        b2 = bias_variable([y_dim])\n",
    "\n",
    "        # hidden layers\n",
    "        h_layer = tf.nn.relu(tf.matmul(self.conv8,W1) + b1)\n",
    "        # Q Value layer\n",
    "        self.y_value = tf.matmul(h_layer,W2) + b2\n",
    "\n",
    "\n",
    "        self.y_input = tf.placeholder(\"float\",[None,y_dim])\n",
    "\n",
    "        self.global_step = tf.Variable(0, name=\"global_step\", trainable=False)\n",
    "    \n",
    "        self.optimizer = tf.train.AdamOptimizer(learning_rate=0.001)\n",
    "    \n",
    "        self.loss = tf.reduce_mean(tf.square(self.y_input - self.y_value))\n",
    "        self.trainable_variables = tf.get_collection(tf.GraphKeys.TRAINABLE_VARIABLES, scope=\"q_network\")\n",
    "        self.gradients = self.optimizer.compute_gradients(self.loss)\n",
    "        self.train_op = self.optimizer.apply_gradients(self.gradients, global_step=self.global_step)\n",
    "    def max_pool_2x2(self, x):\n",
    "        return tf.nn.max_pool( x, ksize=[1,2,2,1], strides=[1,2,2,1], padding='SAME' )"
   ]
  },
  {
   "cell_type": "code",
   "execution_count": null,
   "metadata": {
    "collapsed": true,
    "deletable": true,
    "editable": true
   },
   "outputs": [],
   "source": []
  },
  {
   "cell_type": "code",
   "execution_count": 20,
   "metadata": {
    "collapsed": true,
    "deletable": true,
    "editable": true
   },
   "outputs": [],
   "source": [
    "load_model = True #Whether to load a saved model."
   ]
  },
  {
   "cell_type": "code",
   "execution_count": 8,
   "metadata": {
    "collapsed": true,
    "deletable": true,
    "editable": true
   },
   "outputs": [],
   "source": [
    "load_model = False #Whether to load a saved model."
   ]
  },
  {
   "cell_type": "markdown",
   "metadata": {
    "deletable": true,
    "editable": true
   },
   "source": [
    "### Training the network"
   ]
  },
  {
   "cell_type": "code",
   "execution_count": 9,
   "metadata": {
    "collapsed": true,
    "deletable": true,
    "editable": true
   },
   "outputs": [],
   "source": [
    "from tqdm import trange"
   ]
  },
  {
   "cell_type": "code",
   "execution_count": 10,
   "metadata": {
    "collapsed": true,
    "deletable": true,
    "editable": true
   },
   "outputs": [],
   "source": [
    "model_path = './INK7862-01-400x400'"
   ]
  },
  {
   "cell_type": "code",
   "execution_count": 11,
   "metadata": {
    "collapsed": false,
    "deletable": true,
    "editable": true,
    "scrolled": true
   },
   "outputs": [
    {
     "name": "stderr",
     "output_type": "stream",
     "text": [
      "100%|██████████| 100/100 [8:53:09<00:00, 1550.44s/it]  \n"
     ]
    },
    {
     "name": "stdout",
     "output_type": "stream",
     "text": [
      "[[ 199.18890381  156.06910706]\n",
      " [ 228.34843445  287.46594238]\n",
      " [ 244.59992981  291.1267395 ]\n",
      " [ 227.81515503  226.9959259 ]\n",
      " [ 244.73129272  196.65002441]\n",
      " [ 122.33783722  141.46949768]\n",
      " [ 201.67950439  270.41479492]\n",
      " [ 126.29177856  156.76597595]\n",
      " [ 263.07171631  156.79115295]\n",
      " [ 172.51237488  105.99022675]\n",
      " [ 185.02536011  121.83995056]\n",
      " [ 185.88702393  228.58570862]\n",
      " [ 247.14610291  167.18537903]\n",
      " [ 243.90228271  121.96885681]\n",
      " [ 277.9654541   267.37905884]\n",
      " [ 232.30065918  285.50546265]\n",
      " [ 206.2739563   233.78373718]\n",
      " [ 170.22796631  237.20773315]\n",
      " [ 145.3996582   237.49960327]\n",
      " [ 142.48924255  161.35472107]\n",
      " [ 224.99383545  283.37692261]\n",
      " [ 215.21943665  133.91117859]\n",
      " [ 217.412323    128.12364197]\n",
      " [ 143.09088135  266.60412598]\n",
      " [ 191.09112549  106.561203  ]\n",
      " [ 216.48474121  118.76688385]\n",
      " [ 168.30407715  232.74601746]\n",
      " [ 174.0737915   113.07722473]\n",
      " [ 165.56504822  126.64661407]\n",
      " [ 105.14173889  199.24430847]\n",
      " [ 233.40275574  283.8069458 ]\n",
      " [ 119.54187775  204.26641846]\n",
      " [ 280.70767212  119.7666626 ]\n",
      " [ 284.65487671  246.25654602]\n",
      " [ 152.63171387  255.48872375]\n",
      " [ 215.39323425  230.04052734]\n",
      " [ 180.14157104  127.10147858]\n",
      " [ 226.07891846  205.98727417]\n",
      " [ 283.19830322  233.90335083]\n",
      " [ 134.82119751  140.32762146]\n",
      " [ 197.62269592  178.62226868]\n",
      " [ 180.63874817  126.72344971]\n",
      " [ 235.87176514  144.31097412]\n",
      " [ 212.81570435  257.29568481]\n",
      " [ 292.24673462  234.31352234]\n",
      " [ 235.47671509  271.08398438]\n",
      " [ 290.60403442  176.2671051 ]\n",
      " [ 157.84745789  276.65328979]\n",
      " [ 185.94677734  106.70181274]\n",
      " [ 225.18862915  238.84577942]\n",
      " [ 294.25775146  167.35795593]\n",
      " [ 204.65518188  101.74416351]\n",
      " [ 291.55212402  220.95016479]\n",
      " [ 280.44262695  127.28874207]\n",
      " [ 122.64215088  239.8853302 ]\n",
      " [ 179.73693848  286.39657593]\n",
      " [ 134.65411377  220.13406372]\n",
      " [ 136.38511658  266.98355103]\n",
      " [ 180.86828613  199.46018982]\n",
      " [ 276.92416382  283.05764771]\n",
      " [ 266.14901733  113.99081421]\n",
      " [ 229.70932007  233.27220154]\n",
      " [ 157.59042358  140.71406555]\n",
      " [ 285.87191772  295.95379639]\n",
      " [ 195.09872437  286.73187256]\n",
      " [ 128.68115234  139.36102295]\n",
      " [ 101.95321655  197.650177  ]\n",
      " [ 280.55627441  270.54684448]\n",
      " [ 265.15881348  113.61943054]\n",
      " [ 188.62831116  260.66567993]\n",
      " [ 230.00534058  191.95587158]\n",
      " [ 104.11631012  260.23336792]\n",
      " [ 211.59353638  272.45849609]\n",
      " [ 212.06851196  290.25891113]\n",
      " [ 291.4546814   265.55471802]\n",
      " [ 251.61360168  201.38627625]\n",
      " [ 202.19769287  254.41999817]\n",
      " [ 254.94700623  122.87650299]\n",
      " [ 198.86834717  249.11058044]\n",
      " [ 134.29550171  277.03027344]\n",
      " [ 144.31452942  199.85894775]\n",
      " [ 216.03619385  276.44589233]\n",
      " [ 124.3474884   236.63922119]\n",
      " [ 153.9312439   165.65350342]\n",
      " [ 164.61460876  131.96617126]\n",
      " [ 207.89198303  250.93122864]\n",
      " [ 195.63717651  248.46057129]\n",
      " [ 279.89379883  114.65194702]\n",
      " [ 155.31735229  240.5922699 ]\n",
      " [ 151.32528687  228.7723999 ]\n",
      " [ 224.4523468   120.75669861]\n",
      " [ 257.57858276  279.77578735]\n",
      " [ 121.49364471  159.14054871]\n",
      " [ 290.00585938  233.84910583]\n",
      " [ 158.49697876  133.79411316]\n",
      " [ 206.15589905  285.10015869]\n",
      " [ 152.5176239   169.50239563]\n",
      " [ 189.0773468   172.52107239]\n",
      " [ 177.80892944  154.84931946]\n",
      " [ 205.26972961  226.10263062]]\n"
     ]
    }
   ],
   "source": [
    "tf.reset_default_graph()\n",
    "\n",
    "mainNN = network() \n",
    "\n",
    "init = tf.global_variables_initializer() \n",
    "\n",
    "saver = tf.train.Saver()\n",
    "\n",
    "#Make a path for our model to be saved in.\n",
    "if not os.path.exists( model_path ):\n",
    "    os.makedirs( model_path )\n",
    "\n",
    "with tf.Session() as sess:\n",
    "    \n",
    "    sess.run(init)\n",
    "    \n",
    "    if load_model == True:\n",
    "        load_path = saver.restore(sess, model_path+'/model.ckpt')\n",
    "    \n",
    "    for _ in trange(100):\n",
    "        sess.run([mainNN.train_op], {mainNN.y_input:y_batch, mainNN.x_input:x_batch})\n",
    "\n",
    "    A = mainNN.y_value.eval(feed_dict = {\n",
    "      mainNN.x_input:x_batch\n",
    "      })\n",
    "    print A\n",
    "\n",
    "    save_path = saver.save(sess, model_path+'/model.ckpt')"
   ]
  },
  {
   "cell_type": "code",
   "execution_count": 12,
   "metadata": {
    "collapsed": false,
    "deletable": true,
    "editable": true
   },
   "outputs": [
    {
     "name": "stdout",
     "output_type": "stream",
     "text": [
      "[[197 165]\n",
      " [229 282]\n",
      " [248 294]\n",
      " [233 227]\n",
      " [246 199]\n",
      " [116 131]\n",
      " [196 264]\n",
      " [120 148]\n",
      " [257 165]\n",
      " [165 105]]\n"
     ]
    }
   ],
   "source": [
    "print y_batch[:10]"
   ]
  },
  {
   "cell_type": "code",
   "execution_count": 23,
   "metadata": {
    "collapsed": false,
    "deletable": true,
    "editable": true
   },
   "outputs": [
    {
     "name": "stdout",
     "output_type": "stream",
     "text": [
      "[[ 211.72872925  115.20989227]\n",
      " [ 274.32025146  277.84960938]\n",
      " [ 198.51042175  185.9443512 ]\n",
      " [ 133.18554688  209.63446045]\n",
      " [ 181.89743042  259.66748047]\n",
      " [ 161.39906311  290.68426514]\n",
      " [ 157.31033325  249.30621338]\n",
      " [ 270.05783081  250.41920471]\n",
      " [ 142.70262146  228.50517273]\n",
      " [ 265.74124146  122.12697601]\n",
      " [ 276.8742981   265.4239502 ]\n",
      " [ 120.38916779  250.73477173]\n",
      " [ 201.66120911  221.7709198 ]\n",
      " [ 203.0934906   101.45345306]\n",
      " [ 219.14845276  272.38052368]\n",
      " [ 119.54445648  166.17044067]\n",
      " [ 102.47396088  182.84828186]\n",
      " [ 114.69072723  243.91673279]\n",
      " [ 140.34303284  125.96865845]\n",
      " [ 137.57141113  237.27082825]\n",
      " [ 103.42129517  178.93664551]\n",
      " [ 271.49478149  118.21642303]\n",
      " [ 239.69921875  285.29907227]\n",
      " [ 270.29440308  114.66938019]\n",
      " [ 153.59059143  282.94628906]\n",
      " [ 272.06185913  273.10467529]\n",
      " [ 252.69248962  274.77975464]\n",
      " [ 175.4198761   248.29905701]\n",
      " [ 191.25570679  178.55253601]\n",
      " [ 116.58660889  237.30906677]\n",
      " [ 247.84809875  284.73916626]\n",
      " [ 280.92510986  121.56560516]\n",
      " [ 202.2297821   280.36056519]\n",
      " [ 141.11108398  283.41705322]\n",
      " [ 120.06085205  149.90391541]\n",
      " [ 198.42428589  178.90620422]\n",
      " [ 289.05722046  161.52462769]\n",
      " [ 164.88172913  287.2958374 ]\n",
      " [ 108.01609039  192.25382996]\n",
      " [ 156.81925964  250.72807312]\n",
      " [ 217.39903259  214.83465576]\n",
      " [ 287.80844116  276.63421631]\n",
      " [ 288.96127319  267.92202759]\n",
      " [ 249.24169922  270.51065063]\n",
      " [ 272.11569214  285.18493652]\n",
      " [ 276.57595825  124.10496521]\n",
      " [ 235.03605652  192.50866699]\n",
      " [ 150.11437988  162.99839783]\n",
      " [ 154.99598694  242.26528931]\n",
      " [ 157.32945251  292.87481689]\n",
      " [ 211.85261536  221.20736694]\n",
      " [ 115.70453644  217.42012024]\n",
      " [ 224.1539917   113.52941132]\n",
      " [ 187.05099487  232.20333862]\n",
      " [ 125.3115921   249.94796753]\n",
      " [ 239.74414062  114.35639191]\n",
      " [ 273.83850098  125.76371765]\n",
      " [ 116.80748749  219.04551697]\n",
      " [ 139.49394226  269.55932617]\n",
      " [ 262.37930298  112.73816681]\n",
      " [ 276.07156372  286.79177856]\n",
      " [ 208.79367065  164.62716675]\n",
      " [ 207.90711975  284.1703186 ]\n",
      " [ 211.03422546  201.09539795]\n",
      " [ 138.78137207  221.54936218]\n",
      " [ 173.54585266  241.47816467]\n",
      " [ 161.25259399  148.60069275]\n",
      " [ 189.70304871  272.3505249 ]\n",
      " [ 286.08789062  278.75939941]\n",
      " [ 163.03001404  199.13761902]\n",
      " [ 166.07844543  284.29040527]\n",
      " [ 246.18873596  157.77203369]\n",
      " [ 268.96182251  114.57622528]\n",
      " [ 124.80049896  221.08328247]\n",
      " [ 120.57578278  268.41241455]\n",
      " [ 187.19624329  113.81491852]\n",
      " [ 107.43573761  186.80583191]\n",
      " [ 118.43373871  250.12986755]\n",
      " [ 293.02920532  173.26441956]\n",
      " [ 138.48016357  228.71121216]\n",
      " [ 187.80708313  103.58203888]\n",
      " [ 153.76985168  275.88635254]\n",
      " [ 222.84483337  235.5091095 ]\n",
      " [ 106.77235413  187.87541199]\n",
      " [ 170.95378113  189.43362427]\n",
      " [ 171.45848083  202.45146179]\n",
      " [ 254.76893616  278.75427246]\n",
      " [ 108.25108337  140.20417786]\n",
      " [ 265.19119263  124.76334381]\n",
      " [ 210.36103821  114.39559174]\n",
      " [ 182.26597595  152.4811554 ]\n",
      " [ 129.4944458   110.09690857]\n",
      " [ 128.15734863  202.34275818]\n",
      " [ 222.29986572  281.08071899]\n",
      " [ 132.73548889  248.29689026]\n",
      " [ 124.09523773  260.53820801]\n",
      " [ 146.05947876  128.91130066]\n",
      " [ 281.31335449  132.56039429]\n",
      " [ 181.7396698   278.52191162]\n",
      " [ 141.31037903  139.21861267]]\n"
     ]
    }
   ],
   "source": [
    "tf.reset_default_graph()\n",
    "\n",
    "mainNN = network() \n",
    "\n",
    "init = tf.global_variables_initializer() \n",
    "\n",
    "saver = tf.train.Saver()\n",
    "\n",
    "#Make a path for our model to be saved in.\n",
    "if not os.path.exists( model_path ):\n",
    "    os.makedirs( model_path )\n",
    "\n",
    "with tf.Session() as sess:\n",
    "    \n",
    "    sess.run(init)\n",
    "    \n",
    "    if load_model == True:\n",
    "        load_path = saver.restore(sess, model_path+'/model.ckpt')\n",
    "        \n",
    "    A = mainNN.y_value.eval(feed_dict = {\n",
    "      mainNN.x_input:x_test\n",
    "      })\n",
    "    print A"
   ]
  },
  {
   "cell_type": "code",
   "execution_count": 24,
   "metadata": {
    "collapsed": false,
    "deletable": true,
    "editable": true
   },
   "outputs": [
    {
     "name": "stdout",
     "output_type": "stream",
     "text": [
      "[[210 119]\n",
      " [281 289]\n",
      " [203 189]\n",
      " [138 203]\n",
      " [183 263]] [[125 265]\n",
      " [149 131]\n",
      " [272 129]\n",
      " [185 282]\n",
      " [145 139]]\n"
     ]
    }
   ],
   "source": [
    "print y_test[:5], y_test[-5:]"
   ]
  },
  {
   "cell_type": "code",
   "execution_count": null,
   "metadata": {
    "collapsed": true,
    "deletable": true,
    "editable": true
   },
   "outputs": [],
   "source": []
  }
 ],
 "metadata": {
  "kernelspec": {
   "display_name": "Python 2",
   "language": "python",
   "name": "python2"
  },
  "language_info": {
   "codemirror_mode": {
    "name": "ipython",
    "version": 2
   },
   "file_extension": ".py",
   "mimetype": "text/x-python",
   "name": "python",
   "nbconvert_exporter": "python",
   "pygments_lexer": "ipython2",
   "version": "2.7.13"
  }
 },
 "nbformat": 4,
 "nbformat_minor": 0
}
